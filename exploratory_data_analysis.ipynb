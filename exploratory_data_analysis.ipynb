{
 "cells": [
  {
   "cell_type": "code",
   "execution_count": 11,
   "id": "60ae4e9e-be09-4e6d-b722-63743de3d3c9",
   "metadata": {},
   "outputs": [],
   "source": [
    "## Import librarys\n",
    "\n",
    "import matplotlib.pyplot as plt\n",
    "%matplotlib inline\n",
    "\n",
    "import numpy as np\n",
    "\n",
    "## Run project modules\n",
    "%run ./src/__init__.py"
   ]
  },
  {
   "cell_type": "code",
   "execution_count": null,
   "id": "e57143cc-af1c-44bc-87fb-911785581399",
   "metadata": {},
   "outputs": [],
   "source": []
  },
  {
   "cell_type": "code",
   "execution_count": 12,
   "id": "ac38228c-0e5d-460f-af6f-7900e5c9c37f",
   "metadata": {},
   "outputs": [],
   "source": [
    "## Some playlist id\n",
    "\n",
    "playlist_id= '0JcCtpR2cHbmy70zwa81WV'"
   ]
  },
  {
   "cell_type": "code",
   "execution_count": 13,
   "id": "e849d11e-4304-48b1-b940-aad3f7c907b6",
   "metadata": {
    "tags": []
   },
   "outputs": [],
   "source": [
    "df_playlist = playlist_features(playlist_id)"
   ]
  },
  {
   "cell_type": "code",
   "execution_count": 14,
   "id": "d5cf5665-ea54-4247-84f4-7ffefe22b26b",
   "metadata": {},
   "outputs": [
    {
     "name": "stdout",
     "output_type": "stream",
     "text": [
      "<class 'pandas.core.frame.DataFrame'>\n",
      "RangeIndex: 213 entries, 0 to 212\n",
      "Data columns (total 26 columns):\n",
      " #   Column             Non-Null Count  Dtype  \n",
      "---  ------             --------------  -----  \n",
      " 0   track_id           213 non-null    object \n",
      " 1   track_name         213 non-null    object \n",
      " 2   duration_ms        213 non-null    int64  \n",
      " 3   explicit           213 non-null    bool   \n",
      " 4   track_popularity   213 non-null    int64  \n",
      " 5   acousticness       213 non-null    float64\n",
      " 6   danceability       213 non-null    float64\n",
      " 7   energy             213 non-null    float64\n",
      " 8   instrumentalness   213 non-null    float64\n",
      " 9   key                213 non-null    int64  \n",
      " 10  liveness           213 non-null    float64\n",
      " 11  loudness           213 non-null    float64\n",
      " 12  mode               213 non-null    int64  \n",
      " 13  speechiness        213 non-null    float64\n",
      " 14  tempo              213 non-null    float64\n",
      " 15  time_signature     213 non-null    int64  \n",
      " 16  valence            213 non-null    float64\n",
      " 17  artist_name        213 non-null    object \n",
      " 18  artist_id          213 non-null    object \n",
      " 19  artist_popularity  213 non-null    int64  \n",
      " 20  artist_genres      213 non-null    object \n",
      " 21  artist_followers   213 non-null    int64  \n",
      " 22  album_name         213 non-null    object \n",
      " 23  album_id           213 non-null    object \n",
      " 24  album_type         213 non-null    object \n",
      " 25  release_date       213 non-null    object \n",
      "dtypes: bool(1), float64(9), int64(7), object(9)\n",
      "memory usage: 41.9+ KB\n"
     ]
    }
   ],
   "source": [
    "df_playlist.info()"
   ]
  },
  {
   "cell_type": "code",
   "execution_count": null,
   "id": "f4f1f7f9-1a54-41c3-bd1a-13ef49421c37",
   "metadata": {},
   "outputs": [],
   "source": []
  },
  {
   "cell_type": "code",
   "execution_count": 15,
   "id": "bbe82553-2bcb-4aa7-b849-ade0a1b9e49b",
   "metadata": {},
   "outputs": [],
   "source": [
    "df_playlist['release_year'] = df_playlist['release_date'].str[:4].astype(int)"
   ]
  },
  {
   "cell_type": "code",
   "execution_count": null,
   "id": "126515cd-a1e5-4296-a433-1ed7209774b1",
   "metadata": {},
   "outputs": [],
   "source": []
  },
  {
   "cell_type": "markdown",
   "id": "8b826e00-897c-4c78-bb3e-8b94ec070d4b",
   "metadata": {},
   "source": [
    "## Numeric features description"
   ]
  },
  {
   "cell_type": "code",
   "execution_count": 16,
   "id": "e963df9e-20cf-4e5a-989a-9675d972dc4a",
   "metadata": {},
   "outputs": [
    {
     "data": {
      "text/html": [
       "<div>\n",
       "<style scoped>\n",
       "    .dataframe tbody tr th:only-of-type {\n",
       "        vertical-align: middle;\n",
       "    }\n",
       "\n",
       "    .dataframe tbody tr th {\n",
       "        vertical-align: top;\n",
       "    }\n",
       "\n",
       "    .dataframe thead th {\n",
       "        text-align: right;\n",
       "    }\n",
       "</style>\n",
       "<table border=\"1\" class=\"dataframe\">\n",
       "  <thead>\n",
       "    <tr style=\"text-align: right;\">\n",
       "      <th></th>\n",
       "      <th>duration_ms</th>\n",
       "      <th>track_popularity</th>\n",
       "      <th>acousticness</th>\n",
       "      <th>danceability</th>\n",
       "      <th>energy</th>\n",
       "      <th>instrumentalness</th>\n",
       "      <th>key</th>\n",
       "      <th>liveness</th>\n",
       "      <th>loudness</th>\n",
       "      <th>mode</th>\n",
       "      <th>speechiness</th>\n",
       "      <th>tempo</th>\n",
       "      <th>time_signature</th>\n",
       "      <th>valence</th>\n",
       "      <th>artist_popularity</th>\n",
       "      <th>artist_followers</th>\n",
       "      <th>release_year</th>\n",
       "    </tr>\n",
       "  </thead>\n",
       "  <tbody>\n",
       "    <tr>\n",
       "      <th>count</th>\n",
       "      <td>213.000000</td>\n",
       "      <td>213.000000</td>\n",
       "      <td>213.000000</td>\n",
       "      <td>213.000000</td>\n",
       "      <td>213.000000</td>\n",
       "      <td>213.000000</td>\n",
       "      <td>213.000000</td>\n",
       "      <td>213.000000</td>\n",
       "      <td>213.000000</td>\n",
       "      <td>213.000000</td>\n",
       "      <td>213.000000</td>\n",
       "      <td>213.000000</td>\n",
       "      <td>213.000000</td>\n",
       "      <td>213.000000</td>\n",
       "      <td>213.000000</td>\n",
       "      <td>2.130000e+02</td>\n",
       "      <td>213.000000</td>\n",
       "    </tr>\n",
       "    <tr>\n",
       "      <th>mean</th>\n",
       "      <td>234071.981221</td>\n",
       "      <td>44.934272</td>\n",
       "      <td>0.172209</td>\n",
       "      <td>0.513108</td>\n",
       "      <td>0.712203</td>\n",
       "      <td>0.070757</td>\n",
       "      <td>5.046948</td>\n",
       "      <td>0.180475</td>\n",
       "      <td>-7.300221</td>\n",
       "      <td>0.680751</td>\n",
       "      <td>0.056045</td>\n",
       "      <td>127.395235</td>\n",
       "      <td>3.938967</td>\n",
       "      <td>0.579708</td>\n",
       "      <td>73.004695</td>\n",
       "      <td>7.375321e+06</td>\n",
       "      <td>1997.220657</td>\n",
       "    </tr>\n",
       "    <tr>\n",
       "      <th>std</th>\n",
       "      <td>66800.282172</td>\n",
       "      <td>29.317961</td>\n",
       "      <td>0.254792</td>\n",
       "      <td>0.141860</td>\n",
       "      <td>0.209846</td>\n",
       "      <td>0.186384</td>\n",
       "      <td>3.722402</td>\n",
       "      <td>0.137848</td>\n",
       "      <td>3.480022</td>\n",
       "      <td>0.467284</td>\n",
       "      <td>0.041814</td>\n",
       "      <td>30.236606</td>\n",
       "      <td>0.293053</td>\n",
       "      <td>0.220786</td>\n",
       "      <td>11.637812</td>\n",
       "      <td>9.531934e+06</td>\n",
       "      <td>13.373204</td>\n",
       "    </tr>\n",
       "    <tr>\n",
       "      <th>min</th>\n",
       "      <td>110093.000000</td>\n",
       "      <td>0.000000</td>\n",
       "      <td>0.000006</td>\n",
       "      <td>0.107000</td>\n",
       "      <td>0.042000</td>\n",
       "      <td>0.000000</td>\n",
       "      <td>0.000000</td>\n",
       "      <td>0.013600</td>\n",
       "      <td>-22.231000</td>\n",
       "      <td>0.000000</td>\n",
       "      <td>0.023500</td>\n",
       "      <td>70.843000</td>\n",
       "      <td>1.000000</td>\n",
       "      <td>0.066900</td>\n",
       "      <td>2.000000</td>\n",
       "      <td>4.100000e+01</td>\n",
       "      <td>1963.000000</td>\n",
       "    </tr>\n",
       "    <tr>\n",
       "      <th>25%</th>\n",
       "      <td>189226.000000</td>\n",
       "      <td>17.000000</td>\n",
       "      <td>0.005090</td>\n",
       "      <td>0.409000</td>\n",
       "      <td>0.558000</td>\n",
       "      <td>0.000002</td>\n",
       "      <td>2.000000</td>\n",
       "      <td>0.092600</td>\n",
       "      <td>-9.224000</td>\n",
       "      <td>0.000000</td>\n",
       "      <td>0.033600</td>\n",
       "      <td>103.183000</td>\n",
       "      <td>4.000000</td>\n",
       "      <td>0.400000</td>\n",
       "      <td>65.000000</td>\n",
       "      <td>8.977570e+05</td>\n",
       "      <td>1991.000000</td>\n",
       "    </tr>\n",
       "    <tr>\n",
       "      <th>50%</th>\n",
       "      <td>226240.000000</td>\n",
       "      <td>53.000000</td>\n",
       "      <td>0.040000</td>\n",
       "      <td>0.523000</td>\n",
       "      <td>0.769000</td>\n",
       "      <td>0.000179</td>\n",
       "      <td>4.000000</td>\n",
       "      <td>0.134000</td>\n",
       "      <td>-6.558000</td>\n",
       "      <td>1.000000</td>\n",
       "      <td>0.042100</td>\n",
       "      <td>125.412000</td>\n",
       "      <td>4.000000</td>\n",
       "      <td>0.592000</td>\n",
       "      <td>76.000000</td>\n",
       "      <td>3.338891e+06</td>\n",
       "      <td>2001.000000</td>\n",
       "    </tr>\n",
       "    <tr>\n",
       "      <th>75%</th>\n",
       "      <td>265640.000000</td>\n",
       "      <td>70.000000</td>\n",
       "      <td>0.212000</td>\n",
       "      <td>0.611000</td>\n",
       "      <td>0.889000</td>\n",
       "      <td>0.011600</td>\n",
       "      <td>9.000000</td>\n",
       "      <td>0.222000</td>\n",
       "      <td>-4.860000</td>\n",
       "      <td>1.000000</td>\n",
       "      <td>0.059200</td>\n",
       "      <td>152.510000</td>\n",
       "      <td>4.000000</td>\n",
       "      <td>0.754000</td>\n",
       "      <td>82.000000</td>\n",
       "      <td>1.112128e+07</td>\n",
       "      <td>2007.000000</td>\n",
       "    </tr>\n",
       "    <tr>\n",
       "      <th>max</th>\n",
       "      <td>517125.000000</td>\n",
       "      <td>88.000000</td>\n",
       "      <td>0.944000</td>\n",
       "      <td>0.929000</td>\n",
       "      <td>0.993000</td>\n",
       "      <td>0.882000</td>\n",
       "      <td>11.000000</td>\n",
       "      <td>0.854000</td>\n",
       "      <td>-1.746000</td>\n",
       "      <td>1.000000</td>\n",
       "      <td>0.319000</td>\n",
       "      <td>203.243000</td>\n",
       "      <td>4.000000</td>\n",
       "      <td>0.968000</td>\n",
       "      <td>92.000000</td>\n",
       "      <td>3.912350e+07</td>\n",
       "      <td>2018.000000</td>\n",
       "    </tr>\n",
       "  </tbody>\n",
       "</table>\n",
       "</div>"
      ],
      "text/plain": [
       "         duration_ms  track_popularity  acousticness  danceability  \\\n",
       "count     213.000000        213.000000    213.000000    213.000000   \n",
       "mean   234071.981221         44.934272      0.172209      0.513108   \n",
       "std     66800.282172         29.317961      0.254792      0.141860   \n",
       "min    110093.000000          0.000000      0.000006      0.107000   \n",
       "25%    189226.000000         17.000000      0.005090      0.409000   \n",
       "50%    226240.000000         53.000000      0.040000      0.523000   \n",
       "75%    265640.000000         70.000000      0.212000      0.611000   \n",
       "max    517125.000000         88.000000      0.944000      0.929000   \n",
       "\n",
       "           energy  instrumentalness         key    liveness    loudness  \\\n",
       "count  213.000000        213.000000  213.000000  213.000000  213.000000   \n",
       "mean     0.712203          0.070757    5.046948    0.180475   -7.300221   \n",
       "std      0.209846          0.186384    3.722402    0.137848    3.480022   \n",
       "min      0.042000          0.000000    0.000000    0.013600  -22.231000   \n",
       "25%      0.558000          0.000002    2.000000    0.092600   -9.224000   \n",
       "50%      0.769000          0.000179    4.000000    0.134000   -6.558000   \n",
       "75%      0.889000          0.011600    9.000000    0.222000   -4.860000   \n",
       "max      0.993000          0.882000   11.000000    0.854000   -1.746000   \n",
       "\n",
       "             mode  speechiness       tempo  time_signature     valence  \\\n",
       "count  213.000000   213.000000  213.000000      213.000000  213.000000   \n",
       "mean     0.680751     0.056045  127.395235        3.938967    0.579708   \n",
       "std      0.467284     0.041814   30.236606        0.293053    0.220786   \n",
       "min      0.000000     0.023500   70.843000        1.000000    0.066900   \n",
       "25%      0.000000     0.033600  103.183000        4.000000    0.400000   \n",
       "50%      1.000000     0.042100  125.412000        4.000000    0.592000   \n",
       "75%      1.000000     0.059200  152.510000        4.000000    0.754000   \n",
       "max      1.000000     0.319000  203.243000        4.000000    0.968000   \n",
       "\n",
       "       artist_popularity  artist_followers  release_year  \n",
       "count         213.000000      2.130000e+02    213.000000  \n",
       "mean           73.004695      7.375321e+06   1997.220657  \n",
       "std            11.637812      9.531934e+06     13.373204  \n",
       "min             2.000000      4.100000e+01   1963.000000  \n",
       "25%            65.000000      8.977570e+05   1991.000000  \n",
       "50%            76.000000      3.338891e+06   2001.000000  \n",
       "75%            82.000000      1.112128e+07   2007.000000  \n",
       "max            92.000000      3.912350e+07   2018.000000  "
      ]
     },
     "execution_count": 16,
     "metadata": {},
     "output_type": "execute_result"
    }
   ],
   "source": [
    "df_playlist.describe()"
   ]
  },
  {
   "cell_type": "code",
   "execution_count": null,
   "id": "97839f03-ca6d-43ec-80b6-41a0b7462606",
   "metadata": {},
   "outputs": [],
   "source": []
  },
  {
   "cell_type": "code",
   "execution_count": 17,
   "id": "08bb0048-1046-4a2e-80b5-123df413e1ae",
   "metadata": {},
   "outputs": [
    {
     "data": {
      "image/png": "[encoded data removed]",
      "text/plain": [
       "<Figure size 1584x3240 with 18 Axes>"
      ]
     },
     "metadata": {
      "needs_background": "light"
     },
     "output_type": "display_data"
    }
   ],
   "source": [
    "## Histograms of the numeric features\n",
    "\n",
    "plt.rcParams['figure.figsize'] = [22, 45]\n",
    "\n",
    "fig, axs = plt.subplots(6, 3)\n",
    "\n",
    "numeric_features = df_playlist.select_dtypes(include=np.number).columns\n",
    "feature = 0\n",
    "\n",
    "for i in range(6):\n",
    "    for j in range(3):\n",
    "        try:\n",
    "            axs[i,j].hist(df_playlist[numeric_features[feature]])\n",
    "            axs[i,j].set_title(numeric_features[feature])\n",
    "            feature += 1\n",
    "        except:\n",
    "            pass\n"
   ]
  },
  {
   "cell_type": "code",
   "execution_count": null,
   "id": "40c6af6e-06f6-497b-8ae2-0198a439cc58",
   "metadata": {},
   "outputs": [],
   "source": []
  },
  {
   "cell_type": "code",
   "execution_count": null,
   "id": "d59e82ba-9214-47d7-a3a0-f1af66681248",
   "metadata": {},
   "outputs": [],
   "source": []
  },
  {
   "cell_type": "markdown",
   "id": "75350370-0643-4872-96f4-ed514d5ce3ad",
   "metadata": {},
   "source": [
    "## Categorical features description"
   ]
  },
  {
   "cell_type": "code",
   "execution_count": 18,
   "id": "aca39cac-f2cf-434f-b131-826aa4cd9f16",
   "metadata": {},
   "outputs": [],
   "source": [
    "df_categorical = df_playlist[['artist_name','artist_genres','album_name','album_type']]"
   ]
  },
  {
   "cell_type": "code",
   "execution_count": 19,
   "id": "9ee9151f-fc0b-4874-be70-dbbdd0a2dca3",
   "metadata": {},
   "outputs": [
    {
     "name": "stdout",
     "output_type": "stream",
     "text": [
      "There are 105 different artists in the playlist\n",
      "\n",
      "Principal artists:\n"
     ]
    },
    {
     "data": {
      "text/plain": [
       "Queen                 10\n",
       "Morphine               8\n",
       "Green Day              7\n",
       "Foo Fighters           7\n",
       "The Beatles            7\n",
       "The Cure               6\n",
       "Beirut                 6\n",
       "Iggy Pop               6\n",
       "Led Zeppelin           6\n",
       "The Strokes            6\n",
       "Oasis                  5\n",
       "Pink Floyd             4\n",
       "David Bowie            4\n",
       "Nirvana                4\n",
       "Metallica              4\n",
       "Arctic Monkeys         4\n",
       "El Cuarteto De Nos     3\n",
       "Kings of Leon          3\n",
       "Travis                 3\n",
       "Los Bunkers            3\n",
       "Name: artist_name, dtype: int64"
      ]
     },
     "execution_count": 19,
     "metadata": {},
     "output_type": "execute_result"
    }
   ],
   "source": [
    "## Artists description\n",
    "\n",
    "total_artists = df_categorical['artist_name'].nunique()\n",
    "\n",
    "print(f'There are {total_artists} different artists in the playlist')\n",
    "\n",
    "total_show = min(20,total_artists)\n",
    "\n",
    "print('\\nPrincipal artists:')\n",
    "\n",
    "df_categorical['artist_name'].value_counts()[:total_show]"
   ]
  },
  {
   "cell_type": "code",
   "execution_count": 20,
   "id": "30a34696-1c16-4109-a421-6764cf5709a4",
   "metadata": {},
   "outputs": [
    {
     "name": "stdout",
     "output_type": "stream",
     "text": [
      "There are 171 different genres in the playlist\n",
      "\n",
      "Principal genres:\n"
     ]
    },
    {
     "data": {
      "text/plain": [
       "rock                 128\n",
       "permanent wave        69\n",
       "classic rock          51\n",
       "alternative rock      43\n",
       "modern rock           39\n",
       "rock en espanol       25\n",
       "latin rock            25\n",
       "latin alternative     24\n",
       "punk                  21\n",
       "glam rock             20\n",
       "indie rock            18\n",
       "album rock            17\n",
       "new wave              16\n",
       "hard rock             16\n",
       "garage rock           15\n",
       "psychedelic rock      15\n",
       "blues rock            14\n",
       "alternative metal     13\n",
       "indie pop             13\n",
       "beatlesque            12\n",
       "dtype: int64"
      ]
     },
     "execution_count": 20,
     "metadata": {},
     "output_type": "execute_result"
    }
   ],
   "source": [
    "## Genres description\n",
    "\n",
    "all_genres = df_categorical['artist_genres'].apply(pd.Series).stack().reset_index(drop=True)\n",
    "\n",
    "total_genres = all_genres.nunique()\n",
    "\n",
    "print(f'There are {total_genres} different genres in the playlist')\n",
    "\n",
    "total_show = min(20,total_genres)\n",
    "\n",
    "print('\\nPrincipal genres:')\n",
    "\n",
    "all_genres.value_counts()[:total_show]"
   ]
  },
  {
   "cell_type": "code",
   "execution_count": null,
   "id": "ee67cfb7-c65e-49c7-861e-a30367dea846",
   "metadata": {},
   "outputs": [],
   "source": []
  },
  {
   "cell_type": "code",
   "execution_count": null,
   "id": "8c67ce96-5a8b-49f3-8eeb-fc2691183af7",
   "metadata": {},
   "outputs": [],
   "source": []
  },
  {
   "cell_type": "code",
   "execution_count": 22,
   "id": "6dd52dd0-e3e7-4101-8e21-3f65e54b1c65",
   "metadata": {},
   "outputs": [
    {
     "name": "stdout",
     "output_type": "stream",
     "text": [
      "There are 178 different albums in the playlist\n",
      "\n",
      "Principal albums:\n"
     ]
    },
    {
     "data": {
      "text/plain": [
       "Dookie                                                             5\n",
       "Good                                                               3\n",
       "The Rip Tide                                                       3\n",
       "Jazz                                                               3\n",
       "Cure for Pain                                                      3\n",
       "Mothership (Remastered)                                            3\n",
       "(What's The Story) Morning Glory? (Deluxe Edition) [Remastered]    2\n",
       "Disintegration (Deluxe Edition)                                    2\n",
       "Greatest Hits                                                      2\n",
       "Metallica                                                          2\n",
       "...And Out Come The Wolves                                         2\n",
       "Whatever People Say I Am, That's What I'm Not                      2\n",
       "Room On Fire                                                       2\n",
       "Agila                                                              2\n",
       "Only By The Night                                                  2\n",
       "Abbey Road (Remastered)                                            2\n",
       "Is This It                                                         2\n",
       "Yes                                                                2\n",
       "Lust For Life                                                      2\n",
       "The Wall                                                           2\n",
       "Name: album_name, dtype: int64"
      ]
     },
     "execution_count": 22,
     "metadata": {},
     "output_type": "execute_result"
    }
   ],
   "source": [
    "## Albums description\n",
    "\n",
    "total_albums = df_categorical['album_name'].nunique()\n",
    "\n",
    "print(f'There are {total_albums} different albums in the playlist')\n",
    "\n",
    "total_show = min(20,total_albums)\n",
    "\n",
    "print('\\nPrincipal albums:')\n",
    "\n",
    "df_categorical['album_name'].value_counts()[:total_show]"
   ]
  },
  {
   "cell_type": "code",
   "execution_count": 23,
   "id": "f062cfd6-77c9-40e6-b3ad-869a5c4edfc3",
   "metadata": {},
   "outputs": [
    {
     "data": {
      "text/plain": [
       "album    213\n",
       "Name: album_type, dtype: int64"
      ]
     },
     "execution_count": 23,
     "metadata": {},
     "output_type": "execute_result"
    }
   ],
   "source": [
    "## Album type count\n",
    "\n",
    "df_categorical['album_type'].value_counts()"
   ]
  }
 ],
 "metadata": {
  "kernelspec": {
   "display_name": "Python 3",
   "language": "python",
   "name": "python3"
  },
  "language_info": {
   "codemirror_mode": {
    "name": "ipython",
    "version": 3
   },
   "file_extension": ".py",
   "mimetype": "text/x-python",
   "name": "python",
   "nbconvert_exporter": "python",
   "pygments_lexer": "ipython3",
   "version": "3.8.8"
  }
 },
 "nbformat": 4,
 "nbformat_minor": 5
}
