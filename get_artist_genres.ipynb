{
 "cells": [
  {
   "cell_type": "code",
   "execution_count": 2,
   "id": "df83e95b-ee27-470a-939d-efa49fb9d5b6",
   "metadata": {},
   "outputs": [],
   "source": [
    "%run ./src/__init__.py"
   ]
  },
  {
   "cell_type": "code",
   "execution_count": 3,
   "id": "81a690e3-ed73-4fa0-a768-a211d276f0e6",
   "metadata": {},
   "outputs": [],
   "source": [
    "from time import process_time"
   ]
  },
  {
   "cell_type": "code",
   "execution_count": 4,
   "id": "0123e268-7754-403e-a184-2546724ad933",
   "metadata": {},
   "outputs": [],
   "source": [
    "df_artists = pd.read_csv('./data/artist_uris.csv', header=None, names=['name', 'uri'])"
   ]
  },
  {
   "cell_type": "code",
   "execution_count": 5,
   "id": "14341a06-116b-4f33-b222-9d3ed58fb89c",
   "metadata": {},
   "outputs": [],
   "source": [
    "df_artists[['uri1','uri2','id']] = df_artists.uri.str.split(':',3,expand=True)\n",
    "df_artists = df_artists.drop(columns=['uri1','uri2'])"
   ]
  },
  {
   "cell_type": "code",
   "execution_count": 6,
   "id": "6c8b6af2-841c-4e32-b68c-6268cee7e64c",
   "metadata": {},
   "outputs": [
    {
     "data": {
      "text/html": [
       "<div>\n",
       "<style scoped>\n",
       "    .dataframe tbody tr th:only-of-type {\n",
       "        vertical-align: middle;\n",
       "    }\n",
       "\n",
       "    .dataframe tbody tr th {\n",
       "        vertical-align: top;\n",
       "    }\n",
       "\n",
       "    .dataframe thead th {\n",
       "        text-align: right;\n",
       "    }\n",
       "</style>\n",
       "<table border=\"1\" class=\"dataframe\">\n",
       "  <thead>\n",
       "    <tr style=\"text-align: right;\">\n",
       "      <th></th>\n",
       "      <th>name</th>\n",
       "      <th>uri</th>\n",
       "      <th>id</th>\n",
       "    </tr>\n",
       "  </thead>\n",
       "  <tbody>\n",
       "    <tr>\n",
       "      <th>0</th>\n",
       "      <td>1:43</td>\n",
       "      <td>spotify:artist:39EHxSQAIaWusRqSI9xoyF</td>\n",
       "      <td>39EHxSQAIaWusRqSI9xoyF</td>\n",
       "    </tr>\n",
       "    <tr>\n",
       "      <th>1</th>\n",
       "      <td>2:00 AM</td>\n",
       "      <td>spotify:artist:4tN3rZ7cChj4Wns2Wt2Nj6</td>\n",
       "      <td>4tN3rZ7cChj4Wns2Wt2Nj6</td>\n",
       "    </tr>\n",
       "    <tr>\n",
       "      <th>2</th>\n",
       "      <td>2:15</td>\n",
       "      <td>spotify:artist:4HsOm6VNKZtGh8W8GhdNu4</td>\n",
       "      <td>4HsOm6VNKZtGh8W8GhdNu4</td>\n",
       "    </tr>\n",
       "    <tr>\n",
       "      <th>3</th>\n",
       "      <td>2:54</td>\n",
       "      <td>spotify:artist:3LsQKoRgMc8VEkQn66jfAQ</td>\n",
       "      <td>3LsQKoRgMc8VEkQn66jfAQ</td>\n",
       "    </tr>\n",
       "    <tr>\n",
       "      <th>4</th>\n",
       "      <td>4:20</td>\n",
       "      <td>spotify:artist:5KCG0FDMDPzQpxcohGUnyH</td>\n",
       "      <td>5KCG0FDMDPzQpxcohGUnyH</td>\n",
       "    </tr>\n",
       "    <tr>\n",
       "      <th>...</th>\n",
       "      <td>...</td>\n",
       "      <td>...</td>\n",
       "      <td>...</td>\n",
       "    </tr>\n",
       "    <tr>\n",
       "      <th>81318</th>\n",
       "      <td>黃曉明</td>\n",
       "      <td>spotify:artist:53F8atvCmVFVOvnKwZXBd3</td>\n",
       "      <td>53F8atvCmVFVOvnKwZXBd3</td>\n",
       "    </tr>\n",
       "    <tr>\n",
       "      <th>81319</th>\n",
       "      <td>黃玠瑋</td>\n",
       "      <td>spotify:artist:6VI0p0xTjBKKxQN8i8vGpD</td>\n",
       "      <td>6VI0p0xTjBKKxQN8i8vGpD</td>\n",
       "    </tr>\n",
       "    <tr>\n",
       "      <th>81320</th>\n",
       "      <td>黃義達</td>\n",
       "      <td>spotify:artist:7kaq0LysuRSgBZSorlZ7Vj</td>\n",
       "      <td>7kaq0LysuRSgBZSorlZ7Vj</td>\n",
       "    </tr>\n",
       "    <tr>\n",
       "      <th>81321</th>\n",
       "      <td>黃顯忠 (Huang Xianzhong)</td>\n",
       "      <td>spotify:artist:7MuuEryyseo5cvReO6gdPF</td>\n",
       "      <td>7MuuEryyseo5cvReO6gdPF</td>\n",
       "    </tr>\n",
       "    <tr>\n",
       "      <th>81322</th>\n",
       "      <td>#ERROR!</td>\n",
       "      <td>spotify:artist:1easDqNuXyccZdonMosEiU</td>\n",
       "      <td>1easDqNuXyccZdonMosEiU</td>\n",
       "    </tr>\n",
       "  </tbody>\n",
       "</table>\n",
       "<p>81323 rows × 3 columns</p>\n",
       "</div>"
      ],
      "text/plain": [
       "                        name                                    uri  \\\n",
       "0                       1:43  spotify:artist:39EHxSQAIaWusRqSI9xoyF   \n",
       "1                    2:00 AM  spotify:artist:4tN3rZ7cChj4Wns2Wt2Nj6   \n",
       "2                       2:15  spotify:artist:4HsOm6VNKZtGh8W8GhdNu4   \n",
       "3                       2:54  spotify:artist:3LsQKoRgMc8VEkQn66jfAQ   \n",
       "4                       4:20  spotify:artist:5KCG0FDMDPzQpxcohGUnyH   \n",
       "...                      ...                                    ...   \n",
       "81318                    黃曉明  spotify:artist:53F8atvCmVFVOvnKwZXBd3   \n",
       "81319                    黃玠瑋  spotify:artist:6VI0p0xTjBKKxQN8i8vGpD   \n",
       "81320                    黃義達  spotify:artist:7kaq0LysuRSgBZSorlZ7Vj   \n",
       "81321  黃顯忠 (Huang Xianzhong)  spotify:artist:7MuuEryyseo5cvReO6gdPF   \n",
       "81322                #ERROR!  spotify:artist:1easDqNuXyccZdonMosEiU   \n",
       "\n",
       "                           id  \n",
       "0      39EHxSQAIaWusRqSI9xoyF  \n",
       "1      4tN3rZ7cChj4Wns2Wt2Nj6  \n",
       "2      4HsOm6VNKZtGh8W8GhdNu4  \n",
       "3      3LsQKoRgMc8VEkQn66jfAQ  \n",
       "4      5KCG0FDMDPzQpxcohGUnyH  \n",
       "...                       ...  \n",
       "81318  53F8atvCmVFVOvnKwZXBd3  \n",
       "81319  6VI0p0xTjBKKxQN8i8vGpD  \n",
       "81320  7kaq0LysuRSgBZSorlZ7Vj  \n",
       "81321  7MuuEryyseo5cvReO6gdPF  \n",
       "81322  1easDqNuXyccZdonMosEiU  \n",
       "\n",
       "[81323 rows x 3 columns]"
      ]
     },
     "execution_count": 6,
     "metadata": {},
     "output_type": "execute_result"
    }
   ],
   "source": [
    "df_artists"
   ]
  },
  {
   "cell_type": "code",
   "execution_count": null,
   "id": "d9590e87-f745-4130-9f69-a8810a396bec",
   "metadata": {},
   "outputs": [],
   "source": []
  },
  {
   "cell_type": "code",
   "execution_count": 7,
   "id": "b0852923-2dbc-4373-81dd-eeaf0512efbd",
   "metadata": {},
   "outputs": [
    {
     "name": "stdout",
     "output_type": "stream",
     "text": [
      "Duration: 48.521461306\n"
     ]
    }
   ],
   "source": [
    "t_start = process_time()\n",
    "\n",
    "genres_list = set([])\n",
    "\n",
    "for i in range(0,81350,50):\n",
    "    ids = df_artists[i:i+49]['id']\n",
    "    features = sp.artists(ids)['artists']\n",
    "    for feature in features:\n",
    "        genres_list = genres_list.union(set(feature['genres']))\n",
    "    \n",
    "t_end = process_time()\n",
    "print('Duration:',t_end-t_start)"
   ]
  },
  {
   "cell_type": "code",
   "execution_count": null,
   "id": "fdf79e75-59f9-4556-97a1-2f29fe3bcf73",
   "metadata": {},
   "outputs": [],
   "source": []
  },
  {
   "cell_type": "code",
   "execution_count": 8,
   "id": "2fa4f9e7-92ad-4ffb-9dc0-384bb7f63952",
   "metadata": {},
   "outputs": [
    {
     "data": {
      "text/plain": [
       "4738"
      ]
     },
     "execution_count": 8,
     "metadata": {},
     "output_type": "execute_result"
    }
   ],
   "source": [
    "len(genres_list)"
   ]
  },
  {
   "cell_type": "code",
   "execution_count": null,
   "id": "5ba9e24d-8b75-4d12-a49f-eb97fcc1a897",
   "metadata": {},
   "outputs": [],
   "source": []
  },
  {
   "cell_type": "code",
   "execution_count": 8,
   "id": "2d35cb05-e57d-43fe-be5e-f976039ad47f",
   "metadata": {},
   "outputs": [
    {
     "data": {
      "text/html": [
       "<div>\n",
       "<style scoped>\n",
       "    .dataframe tbody tr th:only-of-type {\n",
       "        vertical-align: middle;\n",
       "    }\n",
       "\n",
       "    .dataframe tbody tr th {\n",
       "        vertical-align: top;\n",
       "    }\n",
       "\n",
       "    .dataframe thead th {\n",
       "        text-align: right;\n",
       "    }\n",
       "</style>\n",
       "<table border=\"1\" class=\"dataframe\">\n",
       "  <thead>\n",
       "    <tr style=\"text-align: right;\">\n",
       "      <th></th>\n",
       "      <th>genre</th>\n",
       "    </tr>\n",
       "  </thead>\n",
       "  <tbody>\n",
       "    <tr>\n",
       "      <th>0</th>\n",
       "      <td>21st century classical</td>\n",
       "    </tr>\n",
       "    <tr>\n",
       "      <th>1</th>\n",
       "      <td>432hz</td>\n",
       "    </tr>\n",
       "    <tr>\n",
       "      <th>2</th>\n",
       "      <td>48g</td>\n",
       "    </tr>\n",
       "    <tr>\n",
       "      <th>3</th>\n",
       "      <td>5th wave emo</td>\n",
       "    </tr>\n",
       "    <tr>\n",
       "      <th>4</th>\n",
       "      <td>8-bit</td>\n",
       "    </tr>\n",
       "    <tr>\n",
       "      <th>...</th>\n",
       "      <td>...</td>\n",
       "    </tr>\n",
       "    <tr>\n",
       "      <th>4733</th>\n",
       "      <td>zouglou</td>\n",
       "    </tr>\n",
       "    <tr>\n",
       "      <th>4734</th>\n",
       "      <td>zouk</td>\n",
       "    </tr>\n",
       "    <tr>\n",
       "      <th>4735</th>\n",
       "      <td>zouk riddim</td>\n",
       "    </tr>\n",
       "    <tr>\n",
       "      <th>4736</th>\n",
       "      <td>zurich indie</td>\n",
       "    </tr>\n",
       "    <tr>\n",
       "      <th>4737</th>\n",
       "      <td>zydeco</td>\n",
       "    </tr>\n",
       "  </tbody>\n",
       "</table>\n",
       "<p>4738 rows × 1 columns</p>\n",
       "</div>"
      ],
      "text/plain": [
       "                       genre\n",
       "0     21st century classical\n",
       "1                      432hz\n",
       "2                        48g\n",
       "3               5th wave emo\n",
       "4                      8-bit\n",
       "...                      ...\n",
       "4733                 zouglou\n",
       "4734                    zouk\n",
       "4735             zouk riddim\n",
       "4736            zurich indie\n",
       "4737                  zydeco\n",
       "\n",
       "[4738 rows x 1 columns]"
      ]
     },
     "execution_count": 8,
     "metadata": {},
     "output_type": "execute_result"
    }
   ],
   "source": [
    "genres_list_1 = list(genres_list)\n",
    "genres_list_1.sort()\n",
    "\n",
    "all_genres = pd.DataFrame({'genre':genres_list_1})\n",
    "all_genres"
   ]
  },
  {
   "cell_type": "code",
   "execution_count": null,
   "id": "7c3e4f33-fcaf-4f21-bfc3-5aa06259faf3",
   "metadata": {},
   "outputs": [],
   "source": []
  },
  {
   "cell_type": "code",
   "execution_count": 98,
   "id": "c0f1963d-a2fd-45b9-9b26-e00756706e8f",
   "metadata": {},
   "outputs": [
    {
     "name": "stdout",
     "output_type": "stream",
     "text": [
      "['acoustic', 'afrobeat', 'alt-rock', 'alternative', 'ambient', 'anime', 'black-metal', 'bluegrass', 'blues', 'bossanova', 'brazil', 'breakbeat', 'british', 'cantopop', 'chicago-house', 'children', 'chill', 'classical', 'club', 'comedy', 'country', 'dance', 'dancehall', 'death-metal', 'deep-house', 'detroit-techno', 'disco', 'disney', 'drum-and-bass', 'dub', 'dubstep', 'edm', 'electro', 'electronic', 'emo', 'folk', 'forro', 'french', 'funk', 'garage', 'german', 'gospel', 'goth', 'grindcore', 'groove', 'grunge', 'guitar', 'happy', 'hard-rock', 'hardcore', 'hardstyle', 'heavy-metal', 'hip-hop', 'holidays', 'honky-tonk', 'house', 'idm', 'indian', 'indie', 'indie-pop', 'industrial', 'iranian', 'j-dance', 'j-idol', 'j-pop', 'j-rock', 'jazz', 'k-pop', 'kids', 'latin', 'latino', 'malay', 'mandopop', 'metal', 'metal-misc', 'metalcore', 'minimal-techno', 'movies', 'mpb', 'new-age', 'new-release', 'opera', 'pagode', 'party', 'philippines-opm', 'piano', 'pop', 'pop-film', 'post-dubstep', 'power-pop', 'progressive-house', 'psych-rock', 'punk', 'punk-rock', 'r-n-b', 'rainy-day', 'reggae', 'reggaeton', 'road-trip', 'rock', 'rock-n-roll', 'rockabilly', 'romance', 'sad', 'salsa', 'samba', 'sertanejo', 'show-tunes', 'singer-songwriter', 'ska', 'sleep', 'songwriter', 'soul', 'soundtracks', 'spanish', 'study', 'summer', 'swedish', 'synth-pop', 'tango', 'techno', 'trance', 'trip-hop', 'turkish', 'work-out', 'world-music']\n"
     ]
    }
   ],
   "source": [
    "seed_genres = sp.recommendation_genre_seeds()['genres']\n",
    "\n",
    "print(seed_genres)"
   ]
  },
  {
   "cell_type": "code",
   "execution_count": null,
   "id": "30906b22-9471-4840-9687-ea4678311a3d",
   "metadata": {},
   "outputs": [],
   "source": []
  },
  {
   "cell_type": "code",
   "execution_count": 9,
   "id": "ff940b5b-b7a3-40d9-a304-9d068ed63b06",
   "metadata": {},
   "outputs": [
    {
     "name": "stdout",
     "output_type": "stream",
     "text": [
      "3516\n"
     ]
    }
   ],
   "source": [
    "seed_genres = sp.recommendation_genre_seeds()['genres']\n",
    "\n",
    "extra_words =['hip hop','trap','rap','r&b','afro','instrumental','choir','orchestra','banda','bachata','vallenato','balkan','brasileiro','romanticism','cubano',\n",
    "              'psychedelic','death','perreo','infantil','musica.+','musique.+','progressive','swing','romantic','trova','christian','experimental','bolero',\n",
    "             'brass band','soundtrack','celtic','drill','carnaval','cha-cha-cha','bop','cumbia','surf','vintage','vocal']\n",
    "remove_words = ['british','german','french','swedish','spanish']\n",
    "\n",
    "seed_genres = seed_genres + extra_words\n",
    "seed_genres_clean = [gen for gen in seed_genres if gen not in remove_words]\n",
    "\n",
    "\n",
    "str_seed = '('+'|'.join(seed_genres_clean)+')'\n",
    "\n",
    "all_genres['seed_genre'] = all_genres['genre'].str.extract(str_seed)\n",
    "\n",
    "print(len(all_genres[all_genres.seed_genre.isnull()==False]))\n",
    "\n",
    "all_genres.to_csv('./data/seed_genres.csv',header=True, index=False)"
   ]
  },
  {
   "cell_type": "code",
   "execution_count": null,
   "id": "87350549-b715-4b96-9c3d-404ef9b3b1d4",
   "metadata": {},
   "outputs": [],
   "source": []
  },
  {
   "cell_type": "code",
   "execution_count": 17,
   "id": "6212741e-3d91-4318-b4f9-5c1bf2b75e45",
   "metadata": {},
   "outputs": [],
   "source": [
    "all_genres_clean = all_genres[all_genres.seed_genre.isnull()==False]\n",
    "all_genres_clean = all_genres_clean.reset_index(drop=True)\n",
    "\n",
    "extra_words_replace = ['hip-hop','hip-hop','hip-hop','r-n-b','afrobeat','instrumental','vocal','classical','latin','latin','latin','folk','latin','romantic','latin',\n",
    "                       'rock','metal','reggaeton','kids','world-music','world-music','rock','jazz','romantic','latin','christian','experimental','latin','jazz',\n",
    "                       'movies','folk','hip-hop','folk','latin','jazz','latin','ska','jazz','vocal']\n",
    "\n",
    "all_genres_clean['seed_genre'] = all_genres_clean['seed_genre'].replace(extra_words, extra_words_replace, regex=True)\n",
    "\n",
    "all_genres_clean.to_csv('./data/seed_genres_clean.csv',header=True, index=False)"
   ]
  },
  {
   "cell_type": "code",
   "execution_count": 11,
   "id": "9368bf9b-9728-4302-9c21-3d927ce963ac",
   "metadata": {},
   "outputs": [
    {
     "data": {
      "text/html": [
       "<div>\n",
       "<style scoped>\n",
       "    .dataframe tbody tr th:only-of-type {\n",
       "        vertical-align: middle;\n",
       "    }\n",
       "\n",
       "    .dataframe tbody tr th {\n",
       "        vertical-align: top;\n",
       "    }\n",
       "\n",
       "    .dataframe thead th {\n",
       "        text-align: right;\n",
       "    }\n",
       "</style>\n",
       "<table border=\"1\" class=\"dataframe\">\n",
       "  <thead>\n",
       "    <tr style=\"text-align: right;\">\n",
       "      <th></th>\n",
       "      <th>genre</th>\n",
       "      <th>seed_genre</th>\n",
       "    </tr>\n",
       "  </thead>\n",
       "  <tbody>\n",
       "    <tr>\n",
       "      <th>0</th>\n",
       "      <td>21st century classical</td>\n",
       "      <td>classical</td>\n",
       "    </tr>\n",
       "    <tr>\n",
       "      <th>1</th>\n",
       "      <td>5th wave emo</td>\n",
       "      <td>emo</td>\n",
       "    </tr>\n",
       "    <tr>\n",
       "      <th>2</th>\n",
       "      <td>aberdeen indie</td>\n",
       "      <td>indie</td>\n",
       "    </tr>\n",
       "    <tr>\n",
       "      <th>3</th>\n",
       "      <td>abstract hip hop</td>\n",
       "      <td>hip-hop</td>\n",
       "    </tr>\n",
       "    <tr>\n",
       "      <th>4</th>\n",
       "      <td>abstract idm</td>\n",
       "      <td>idm</td>\n",
       "    </tr>\n",
       "    <tr>\n",
       "      <th>...</th>\n",
       "      <td>...</td>\n",
       "      <td>...</td>\n",
       "    </tr>\n",
       "    <tr>\n",
       "      <th>3511</th>\n",
       "      <td>zim gospel</td>\n",
       "      <td>gospel</td>\n",
       "    </tr>\n",
       "    <tr>\n",
       "      <th>3512</th>\n",
       "      <td>zim hip hop</td>\n",
       "      <td>hip-hop</td>\n",
       "    </tr>\n",
       "    <tr>\n",
       "      <th>3513</th>\n",
       "      <td>zim urban groove</td>\n",
       "      <td>groove</td>\n",
       "    </tr>\n",
       "    <tr>\n",
       "      <th>3514</th>\n",
       "      <td>zimdancehall</td>\n",
       "      <td>dance</td>\n",
       "    </tr>\n",
       "    <tr>\n",
       "      <th>3515</th>\n",
       "      <td>zurich indie</td>\n",
       "      <td>indie</td>\n",
       "    </tr>\n",
       "  </tbody>\n",
       "</table>\n",
       "<p>3516 rows × 2 columns</p>\n",
       "</div>"
      ],
      "text/plain": [
       "                       genre seed_genre\n",
       "0     21st century classical  classical\n",
       "1               5th wave emo        emo\n",
       "2             aberdeen indie      indie\n",
       "3           abstract hip hop    hip-hop\n",
       "4               abstract idm        idm\n",
       "...                      ...        ...\n",
       "3511              zim gospel     gospel\n",
       "3512             zim hip hop    hip-hop\n",
       "3513        zim urban groove     groove\n",
       "3514            zimdancehall      dance\n",
       "3515            zurich indie      indie\n",
       "\n",
       "[3516 rows x 2 columns]"
      ]
     },
     "execution_count": 11,
     "metadata": {},
     "output_type": "execute_result"
    }
   ],
   "source": [
    "all_genres_clean"
   ]
  },
  {
   "cell_type": "code",
   "execution_count": 12,
   "id": "894e1af7-5b81-4ae5-840c-afab530f68d0",
   "metadata": {},
   "outputs": [
    {
     "data": {
      "text/plain": [
       "88"
      ]
     },
     "execution_count": 12,
     "metadata": {},
     "output_type": "execute_result"
    }
   ],
   "source": [
    "len(all_genres_clean['seed_genre'].unique())"
   ]
  },
  {
   "cell_type": "code",
   "execution_count": 13,
   "id": "08e66107-bf73-4ca0-bd4f-56130ac0e03d",
   "metadata": {},
   "outputs": [
    {
     "data": {
      "text/plain": [
       "165"
      ]
     },
     "execution_count": 13,
     "metadata": {},
     "output_type": "execute_result"
    }
   ],
   "source": [
    "len(seed_genres)"
   ]
  },
  {
   "cell_type": "code",
   "execution_count": null,
   "id": "f9acae83-8468-4e9b-a0c5-116bad337c47",
   "metadata": {},
   "outputs": [],
   "source": []
  },
  {
   "cell_type": "code",
   "execution_count": 18,
   "id": "87bf09b6-dd0b-408f-89a4-b91489d9c0d3",
   "metadata": {},
   "outputs": [
    {
     "data": {
      "text/html": [
       "<div>\n",
       "<style scoped>\n",
       "    .dataframe tbody tr th:only-of-type {\n",
       "        vertical-align: middle;\n",
       "    }\n",
       "\n",
       "    .dataframe tbody tr th {\n",
       "        vertical-align: top;\n",
       "    }\n",
       "\n",
       "    .dataframe thead th {\n",
       "        text-align: right;\n",
       "    }\n",
       "</style>\n",
       "<table border=\"1\" class=\"dataframe\">\n",
       "  <thead>\n",
       "    <tr style=\"text-align: right;\">\n",
       "      <th></th>\n",
       "      <th>genre</th>\n",
       "      <th>seed_genre</th>\n",
       "    </tr>\n",
       "  </thead>\n",
       "  <tbody>\n",
       "    <tr>\n",
       "      <th>0</th>\n",
       "      <td>21st century classical</td>\n",
       "      <td>classical</td>\n",
       "    </tr>\n",
       "    <tr>\n",
       "      <th>1</th>\n",
       "      <td>5th wave emo</td>\n",
       "      <td>emo</td>\n",
       "    </tr>\n",
       "    <tr>\n",
       "      <th>2</th>\n",
       "      <td>aberdeen indie</td>\n",
       "      <td>indie</td>\n",
       "    </tr>\n",
       "    <tr>\n",
       "      <th>3</th>\n",
       "      <td>abstract hip hop</td>\n",
       "      <td>hip-hop</td>\n",
       "    </tr>\n",
       "    <tr>\n",
       "      <th>4</th>\n",
       "      <td>abstract idm</td>\n",
       "      <td>idm</td>\n",
       "    </tr>\n",
       "    <tr>\n",
       "      <th>...</th>\n",
       "      <td>...</td>\n",
       "      <td>...</td>\n",
       "    </tr>\n",
       "    <tr>\n",
       "      <th>3511</th>\n",
       "      <td>zim gospel</td>\n",
       "      <td>gospel</td>\n",
       "    </tr>\n",
       "    <tr>\n",
       "      <th>3512</th>\n",
       "      <td>zim hip hop</td>\n",
       "      <td>hip-hop</td>\n",
       "    </tr>\n",
       "    <tr>\n",
       "      <th>3513</th>\n",
       "      <td>zim urban groove</td>\n",
       "      <td>groove</td>\n",
       "    </tr>\n",
       "    <tr>\n",
       "      <th>3514</th>\n",
       "      <td>zimdancehall</td>\n",
       "      <td>dance</td>\n",
       "    </tr>\n",
       "    <tr>\n",
       "      <th>3515</th>\n",
       "      <td>zurich indie</td>\n",
       "      <td>indie</td>\n",
       "    </tr>\n",
       "  </tbody>\n",
       "</table>\n",
       "<p>3516 rows × 2 columns</p>\n",
       "</div>"
      ],
      "text/plain": [
       "                       genre seed_genre\n",
       "0     21st century classical  classical\n",
       "1               5th wave emo        emo\n",
       "2             aberdeen indie      indie\n",
       "3           abstract hip hop    hip-hop\n",
       "4               abstract idm        idm\n",
       "...                      ...        ...\n",
       "3511              zim gospel     gospel\n",
       "3512             zim hip hop    hip-hop\n",
       "3513        zim urban groove     groove\n",
       "3514            zimdancehall      dance\n",
       "3515            zurich indie      indie\n",
       "\n",
       "[3516 rows x 2 columns]"
      ]
     },
     "execution_count": 18,
     "metadata": {},
     "output_type": "execute_result"
    }
   ],
   "source": [
    "all_genres_test = pd.read_csv('./data/seed_genres_clean.csv')\n",
    "all_genres_test"
   ]
  },
  {
   "cell_type": "code",
   "execution_count": null,
   "id": "ddb6ca90-9041-4c6e-8c2a-dd0ea4417003",
   "metadata": {},
   "outputs": [],
   "source": []
  },
  {
   "cell_type": "code",
   "execution_count": null,
   "id": "61b78f1c-3314-4ad8-9252-90d602751b5b",
   "metadata": {},
   "outputs": [],
   "source": []
  },
  {
   "cell_type": "code",
   "execution_count": 19,
   "id": "e961bec1-f248-49e7-9aa5-4bcaab03e93e",
   "metadata": {},
   "outputs": [],
   "source": [
    "GENRES_DICT = dict(zip(all_genres_clean.genre,all_genres_clean.seed_genre))\n",
    "#GENRES_DICT"
   ]
  },
  {
   "cell_type": "code",
   "execution_count": null,
   "id": "44020736-1d56-4a63-8265-429ace73fb10",
   "metadata": {},
   "outputs": [],
   "source": []
  },
  {
   "cell_type": "code",
   "execution_count": 22,
   "id": "4d4b7d32-0f47-4f64-b1b6-dda2d5109482",
   "metadata": {},
   "outputs": [],
   "source": [
    "genres_list = list(set(GENRES_DICT.values()))\n",
    "genres_list.sort()\n",
    "\n",
    "for col in genres_list:\n",
    "    df_artists[col] = 0"
   ]
  },
  {
   "cell_type": "code",
   "execution_count": null,
   "id": "fa0f0fa1-bc6a-4e23-add7-cfa6e8bd2467",
   "metadata": {},
   "outputs": [
    {
     "name": "stderr",
     "output_type": "stream",
     "text": [
      "<ipython-input-27-0a00e2faf7a9>:9: SettingWithCopyWarning: \n",
      "A value is trying to be set on a copy of a slice from a DataFrame.\n",
      "Try using .loc[row_indexer,col_indexer] = value instead\n",
      "\n",
      "See the caveats in the documentation: https://pandas.pydata.org/pandas-docs/stable/user_guide/indexing.html#returning-a-view-versus-a-copy\n",
      "  df_artists.loc[df_artists['id']==my_id][gen] = 1\n"
     ]
    }
   ],
   "source": [
    "t_start = process_time()\n",
    "\n",
    "for i in range(0,1000,50):\n",
    "    ids = df_artists[i:i+49]['id']\n",
    "    features = sp.artists(ids)['artists']\n",
    "    for my_id, feature in zip(ids,features):\n",
    "        for gen in feature['genres']:\n",
    "            try:\n",
    "                df_artists.loc[df_artists['id']==my_id][gen] = 1\n",
    "            except:\n",
    "                pass\n",
    "    \n",
    "t_end = process_time()\n",
    "print('Duration:',t_end-t_start)"
   ]
  },
  {
   "cell_type": "code",
   "execution_count": null,
   "id": "e330c2c4-b30b-491d-968c-6abe7a51ba40",
   "metadata": {},
   "outputs": [],
   "source": []
  },
  {
   "cell_type": "code",
   "execution_count": null,
   "id": "6a101d72-72c0-49c1-9fe7-841093348084",
   "metadata": {},
   "outputs": [],
   "source": [
    "df_artists"
   ]
  }
 ],
 "metadata": {
  "kernelspec": {
   "display_name": "Python 3",
   "language": "python",
   "name": "python3"
  },
  "language_info": {
   "codemirror_mode": {
    "name": "ipython",
    "version": 3
   },
   "file_extension": ".py",
   "mimetype": "text/x-python",
   "name": "python",
   "nbconvert_exporter": "python",
   "pygments_lexer": "ipython3",
   "version": "3.8.8"
  }
 },
 "nbformat": 4,
 "nbformat_minor": 5
}
